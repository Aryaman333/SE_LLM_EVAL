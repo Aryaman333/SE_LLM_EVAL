{
  "nbformat": 4,
  "nbformat_minor": 0,
  "metadata": {
    "colab": {
      "provenance": []
    },
    "kernelspec": {
      "name": "python3",
      "display_name": "Python 3"
    },
    "language_info": {
      "name": "python"
    }
  },
  "cells": [
    {
      "cell_type": "code",
      "execution_count": 26,
      "metadata": {
        "id": "DcnMCvQ-RthB"
      },
      "outputs": [],
      "source": [
        "import pandas as pd\n",
        "from scipy.stats import ttest_ind\n",
        "responses_df  = pd.read_csv('/content/response_final.csv')\n",
        "llm_df = pd.read_csv('/content/llm_finals.csv')"
      ]
    },
    {
      "cell_type": "code",
      "source": [
        "df = pd.DataFrame(responses_df)\n",
        "male_answers = df[df['Gender'] == 'Male']['Option']\n",
        "female_answers = df[df['Gender'] == 'Female']['Option']"
      ],
      "metadata": {
        "id": "2fjHmbMvWkPA"
      },
      "execution_count": 5,
      "outputs": []
    },
    {
      "cell_type": "code",
      "source": [
        "t_stat, p_value = ttest_ind(male_answers, female_answers)\n",
        "print(\"T-statistic:\", t_stat)\n",
        "print(\"P-value:\", p_value)"
      ],
      "metadata": {
        "colab": {
          "base_uri": "https://localhost:8080/"
        },
        "id": "nRHWuHDTW4S2",
        "outputId": "5fb5d31e-d29d-4943-8fcf-49a1f844fe1c"
      },
      "execution_count": 6,
      "outputs": [
        {
          "output_type": "stream",
          "name": "stdout",
          "text": [
            "T-statistic: nan\n",
            "P-value: nan\n"
          ]
        }
      ]
    },
    {
      "cell_type": "code",
      "source": [
        "df = df.sample(frac = 1)"
      ],
      "metadata": {
        "id": "O6GSgFXNYmRp"
      },
      "execution_count": 14,
      "outputs": []
    },
    {
      "cell_type": "code",
      "source": [
        "x=df.head()\n",
        "x"
      ],
      "metadata": {
        "colab": {
          "base_uri": "https://localhost:8080/",
          "height": 206
        },
        "id": "-mw6_3SCX9tz",
        "outputId": "27408716-8abf-48be-8a7e-c30dee52af79"
      },
      "execution_count": 15,
      "outputs": [
        {
          "output_type": "execute_result",
          "data": {
            "text/plain": [
              "     Unnamed: 0              Age Gender  \\\n",
              "21           21  23-26 years old    Man   \n",
              "45           45  23-26 years old    Man   \n",
              "128         128  18-22 years old  Woman   \n",
              "234         234  18-22 years old  Woman   \n",
              "123         123  18-22 years old  Woman   \n",
              "\n",
              "                                            Experience  \\\n",
              "21   How do you balance between innovation and meet...   \n",
              "45   How do you communicate effectively with teamma...   \n",
              "128  What is the biggest challenge you face as a de...   \n",
              "234  How do you ensure that you stay up-to-date wit...   \n",
              "123     What is you preferred development environment?   \n",
              "\n",
              "                                              Question  \\\n",
              "21   How do you balance between innovation and meet...   \n",
              "45   How do you communicate effectively with teamma...   \n",
              "128  What is the biggest challenge you face as a de...   \n",
              "234  How do you ensure that you stay up-to-date wit...   \n",
              "123     What is you preferred development environment?   \n",
              "\n",
              "                                                Option  Count  \n",
              "21                Prioritize innovation over deadlines      2  \n",
              "45   Rely on informal chats and emails for quick up...      1  \n",
              "128                                  Work-life balance      1  \n",
              "234  Engage in open-source projects and coding comm...      1  \n",
              "123                                              macOS      1  "
            ],
            "text/html": [
              "\n",
              "  <div id=\"df-889a3ea8-b6c5-4d6d-9f74-551570dfbdb0\" class=\"colab-df-container\">\n",
              "    <div>\n",
              "<style scoped>\n",
              "    .dataframe tbody tr th:only-of-type {\n",
              "        vertical-align: middle;\n",
              "    }\n",
              "\n",
              "    .dataframe tbody tr th {\n",
              "        vertical-align: top;\n",
              "    }\n",
              "\n",
              "    .dataframe thead th {\n",
              "        text-align: right;\n",
              "    }\n",
              "</style>\n",
              "<table border=\"1\" class=\"dataframe\">\n",
              "  <thead>\n",
              "    <tr style=\"text-align: right;\">\n",
              "      <th></th>\n",
              "      <th>Unnamed: 0</th>\n",
              "      <th>Age</th>\n",
              "      <th>Gender</th>\n",
              "      <th>Experience</th>\n",
              "      <th>Question</th>\n",
              "      <th>Option</th>\n",
              "      <th>Count</th>\n",
              "    </tr>\n",
              "  </thead>\n",
              "  <tbody>\n",
              "    <tr>\n",
              "      <th>21</th>\n",
              "      <td>21</td>\n",
              "      <td>23-26 years old</td>\n",
              "      <td>Man</td>\n",
              "      <td>How do you balance between innovation and meet...</td>\n",
              "      <td>How do you balance between innovation and meet...</td>\n",
              "      <td>Prioritize innovation over deadlines</td>\n",
              "      <td>2</td>\n",
              "    </tr>\n",
              "    <tr>\n",
              "      <th>45</th>\n",
              "      <td>45</td>\n",
              "      <td>23-26 years old</td>\n",
              "      <td>Man</td>\n",
              "      <td>How do you communicate effectively with teamma...</td>\n",
              "      <td>How do you communicate effectively with teamma...</td>\n",
              "      <td>Rely on informal chats and emails for quick up...</td>\n",
              "      <td>1</td>\n",
              "    </tr>\n",
              "    <tr>\n",
              "      <th>128</th>\n",
              "      <td>128</td>\n",
              "      <td>18-22 years old</td>\n",
              "      <td>Woman</td>\n",
              "      <td>What is the biggest challenge you face as a de...</td>\n",
              "      <td>What is the biggest challenge you face as a de...</td>\n",
              "      <td>Work-life balance</td>\n",
              "      <td>1</td>\n",
              "    </tr>\n",
              "    <tr>\n",
              "      <th>234</th>\n",
              "      <td>234</td>\n",
              "      <td>18-22 years old</td>\n",
              "      <td>Woman</td>\n",
              "      <td>How do you ensure that you stay up-to-date wit...</td>\n",
              "      <td>How do you ensure that you stay up-to-date wit...</td>\n",
              "      <td>Engage in open-source projects and coding comm...</td>\n",
              "      <td>1</td>\n",
              "    </tr>\n",
              "    <tr>\n",
              "      <th>123</th>\n",
              "      <td>123</td>\n",
              "      <td>18-22 years old</td>\n",
              "      <td>Woman</td>\n",
              "      <td>What is you preferred development environment?</td>\n",
              "      <td>What is you preferred development environment?</td>\n",
              "      <td>macOS</td>\n",
              "      <td>1</td>\n",
              "    </tr>\n",
              "  </tbody>\n",
              "</table>\n",
              "</div>\n",
              "    <div class=\"colab-df-buttons\">\n",
              "\n",
              "  <div class=\"colab-df-container\">\n",
              "    <button class=\"colab-df-convert\" onclick=\"convertToInteractive('df-889a3ea8-b6c5-4d6d-9f74-551570dfbdb0')\"\n",
              "            title=\"Convert this dataframe to an interactive table.\"\n",
              "            style=\"display:none;\">\n",
              "\n",
              "  <svg xmlns=\"http://www.w3.org/2000/svg\" height=\"24px\" viewBox=\"0 -960 960 960\">\n",
              "    <path d=\"M120-120v-720h720v720H120Zm60-500h600v-160H180v160Zm220 220h160v-160H400v160Zm0 220h160v-160H400v160ZM180-400h160v-160H180v160Zm440 0h160v-160H620v160ZM180-180h160v-160H180v160Zm440 0h160v-160H620v160Z\"/>\n",
              "  </svg>\n",
              "    </button>\n",
              "\n",
              "  <style>\n",
              "    .colab-df-container {\n",
              "      display:flex;\n",
              "      gap: 12px;\n",
              "    }\n",
              "\n",
              "    .colab-df-convert {\n",
              "      background-color: #E8F0FE;\n",
              "      border: none;\n",
              "      border-radius: 50%;\n",
              "      cursor: pointer;\n",
              "      display: none;\n",
              "      fill: #1967D2;\n",
              "      height: 32px;\n",
              "      padding: 0 0 0 0;\n",
              "      width: 32px;\n",
              "    }\n",
              "\n",
              "    .colab-df-convert:hover {\n",
              "      background-color: #E2EBFA;\n",
              "      box-shadow: 0px 1px 2px rgba(60, 64, 67, 0.3), 0px 1px 3px 1px rgba(60, 64, 67, 0.15);\n",
              "      fill: #174EA6;\n",
              "    }\n",
              "\n",
              "    .colab-df-buttons div {\n",
              "      margin-bottom: 4px;\n",
              "    }\n",
              "\n",
              "    [theme=dark] .colab-df-convert {\n",
              "      background-color: #3B4455;\n",
              "      fill: #D2E3FC;\n",
              "    }\n",
              "\n",
              "    [theme=dark] .colab-df-convert:hover {\n",
              "      background-color: #434B5C;\n",
              "      box-shadow: 0px 1px 3px 1px rgba(0, 0, 0, 0.15);\n",
              "      filter: drop-shadow(0px 1px 2px rgba(0, 0, 0, 0.3));\n",
              "      fill: #FFFFFF;\n",
              "    }\n",
              "  </style>\n",
              "\n",
              "    <script>\n",
              "      const buttonEl =\n",
              "        document.querySelector('#df-889a3ea8-b6c5-4d6d-9f74-551570dfbdb0 button.colab-df-convert');\n",
              "      buttonEl.style.display =\n",
              "        google.colab.kernel.accessAllowed ? 'block' : 'none';\n",
              "\n",
              "      async function convertToInteractive(key) {\n",
              "        const element = document.querySelector('#df-889a3ea8-b6c5-4d6d-9f74-551570dfbdb0');\n",
              "        const dataTable =\n",
              "          await google.colab.kernel.invokeFunction('convertToInteractive',\n",
              "                                                    [key], {});\n",
              "        if (!dataTable) return;\n",
              "\n",
              "        const docLinkHtml = 'Like what you see? Visit the ' +\n",
              "          '<a target=\"_blank\" href=https://colab.research.google.com/notebooks/data_table.ipynb>data table notebook</a>'\n",
              "          + ' to learn more about interactive tables.';\n",
              "        element.innerHTML = '';\n",
              "        dataTable['output_type'] = 'display_data';\n",
              "        await google.colab.output.renderOutput(dataTable, element);\n",
              "        const docLink = document.createElement('div');\n",
              "        docLink.innerHTML = docLinkHtml;\n",
              "        element.appendChild(docLink);\n",
              "      }\n",
              "    </script>\n",
              "  </div>\n",
              "\n",
              "\n",
              "<div id=\"df-76462006-d5a0-4446-9c34-b10ef5a7ac5b\">\n",
              "  <button class=\"colab-df-quickchart\" onclick=\"quickchart('df-76462006-d5a0-4446-9c34-b10ef5a7ac5b')\"\n",
              "            title=\"Suggest charts\"\n",
              "            style=\"display:none;\">\n",
              "\n",
              "<svg xmlns=\"http://www.w3.org/2000/svg\" height=\"24px\"viewBox=\"0 0 24 24\"\n",
              "     width=\"24px\">\n",
              "    <g>\n",
              "        <path d=\"M19 3H5c-1.1 0-2 .9-2 2v14c0 1.1.9 2 2 2h14c1.1 0 2-.9 2-2V5c0-1.1-.9-2-2-2zM9 17H7v-7h2v7zm4 0h-2V7h2v10zm4 0h-2v-4h2v4z\"/>\n",
              "    </g>\n",
              "</svg>\n",
              "  </button>\n",
              "\n",
              "<style>\n",
              "  .colab-df-quickchart {\n",
              "      --bg-color: #E8F0FE;\n",
              "      --fill-color: #1967D2;\n",
              "      --hover-bg-color: #E2EBFA;\n",
              "      --hover-fill-color: #174EA6;\n",
              "      --disabled-fill-color: #AAA;\n",
              "      --disabled-bg-color: #DDD;\n",
              "  }\n",
              "\n",
              "  [theme=dark] .colab-df-quickchart {\n",
              "      --bg-color: #3B4455;\n",
              "      --fill-color: #D2E3FC;\n",
              "      --hover-bg-color: #434B5C;\n",
              "      --hover-fill-color: #FFFFFF;\n",
              "      --disabled-bg-color: #3B4455;\n",
              "      --disabled-fill-color: #666;\n",
              "  }\n",
              "\n",
              "  .colab-df-quickchart {\n",
              "    background-color: var(--bg-color);\n",
              "    border: none;\n",
              "    border-radius: 50%;\n",
              "    cursor: pointer;\n",
              "    display: none;\n",
              "    fill: var(--fill-color);\n",
              "    height: 32px;\n",
              "    padding: 0;\n",
              "    width: 32px;\n",
              "  }\n",
              "\n",
              "  .colab-df-quickchart:hover {\n",
              "    background-color: var(--hover-bg-color);\n",
              "    box-shadow: 0 1px 2px rgba(60, 64, 67, 0.3), 0 1px 3px 1px rgba(60, 64, 67, 0.15);\n",
              "    fill: var(--button-hover-fill-color);\n",
              "  }\n",
              "\n",
              "  .colab-df-quickchart-complete:disabled,\n",
              "  .colab-df-quickchart-complete:disabled:hover {\n",
              "    background-color: var(--disabled-bg-color);\n",
              "    fill: var(--disabled-fill-color);\n",
              "    box-shadow: none;\n",
              "  }\n",
              "\n",
              "  .colab-df-spinner {\n",
              "    border: 2px solid var(--fill-color);\n",
              "    border-color: transparent;\n",
              "    border-bottom-color: var(--fill-color);\n",
              "    animation:\n",
              "      spin 1s steps(1) infinite;\n",
              "  }\n",
              "\n",
              "  @keyframes spin {\n",
              "    0% {\n",
              "      border-color: transparent;\n",
              "      border-bottom-color: var(--fill-color);\n",
              "      border-left-color: var(--fill-color);\n",
              "    }\n",
              "    20% {\n",
              "      border-color: transparent;\n",
              "      border-left-color: var(--fill-color);\n",
              "      border-top-color: var(--fill-color);\n",
              "    }\n",
              "    30% {\n",
              "      border-color: transparent;\n",
              "      border-left-color: var(--fill-color);\n",
              "      border-top-color: var(--fill-color);\n",
              "      border-right-color: var(--fill-color);\n",
              "    }\n",
              "    40% {\n",
              "      border-color: transparent;\n",
              "      border-right-color: var(--fill-color);\n",
              "      border-top-color: var(--fill-color);\n",
              "    }\n",
              "    60% {\n",
              "      border-color: transparent;\n",
              "      border-right-color: var(--fill-color);\n",
              "    }\n",
              "    80% {\n",
              "      border-color: transparent;\n",
              "      border-right-color: var(--fill-color);\n",
              "      border-bottom-color: var(--fill-color);\n",
              "    }\n",
              "    90% {\n",
              "      border-color: transparent;\n",
              "      border-bottom-color: var(--fill-color);\n",
              "    }\n",
              "  }\n",
              "</style>\n",
              "\n",
              "  <script>\n",
              "    async function quickchart(key) {\n",
              "      const quickchartButtonEl =\n",
              "        document.querySelector('#' + key + ' button');\n",
              "      quickchartButtonEl.disabled = true;  // To prevent multiple clicks.\n",
              "      quickchartButtonEl.classList.add('colab-df-spinner');\n",
              "      try {\n",
              "        const charts = await google.colab.kernel.invokeFunction(\n",
              "            'suggestCharts', [key], {});\n",
              "      } catch (error) {\n",
              "        console.error('Error during call to suggestCharts:', error);\n",
              "      }\n",
              "      quickchartButtonEl.classList.remove('colab-df-spinner');\n",
              "      quickchartButtonEl.classList.add('colab-df-quickchart-complete');\n",
              "    }\n",
              "    (() => {\n",
              "      let quickchartButtonEl =\n",
              "        document.querySelector('#df-76462006-d5a0-4446-9c34-b10ef5a7ac5b button');\n",
              "      quickchartButtonEl.style.display =\n",
              "        google.colab.kernel.accessAllowed ? 'block' : 'none';\n",
              "    })();\n",
              "  </script>\n",
              "</div>\n",
              "    </div>\n",
              "  </div>\n"
            ],
            "application/vnd.google.colaboratory.intrinsic+json": {
              "type": "dataframe",
              "variable_name": "x",
              "summary": "{\n  \"name\": \"x\",\n  \"rows\": 5,\n  \"fields\": [\n    {\n      \"column\": \"Unnamed: 0\",\n      \"properties\": {\n        \"dtype\": \"number\",\n        \"std\": 83,\n        \"min\": 21,\n        \"max\": 234,\n        \"num_unique_values\": 5,\n        \"samples\": [\n          45,\n          123,\n          128\n        ],\n        \"semantic_type\": \"\",\n        \"description\": \"\"\n      }\n    },\n    {\n      \"column\": \"Age\",\n      \"properties\": {\n        \"dtype\": \"category\",\n        \"num_unique_values\": 2,\n        \"samples\": [\n          \"18-22 years old\",\n          \"23-26 years old\"\n        ],\n        \"semantic_type\": \"\",\n        \"description\": \"\"\n      }\n    },\n    {\n      \"column\": \"Gender\",\n      \"properties\": {\n        \"dtype\": \"category\",\n        \"num_unique_values\": 2,\n        \"samples\": [\n          \"Woman\",\n          \"Man\"\n        ],\n        \"semantic_type\": \"\",\n        \"description\": \"\"\n      }\n    },\n    {\n      \"column\": \"Experience\",\n      \"properties\": {\n        \"dtype\": \"string\",\n        \"num_unique_values\": 5,\n        \"samples\": [\n          \"How do you communicate effectively with teammates to collaborate while adhering to the timelines?\",\n          \"What is you preferred development environment?\"\n        ],\n        \"semantic_type\": \"\",\n        \"description\": \"\"\n      }\n    },\n    {\n      \"column\": \"Question\",\n      \"properties\": {\n        \"dtype\": \"string\",\n        \"num_unique_values\": 5,\n        \"samples\": [\n          \"How do you communicate effectively with teammates to collaborate while adhering to the timelines?\",\n          \"What is you preferred development environment?\"\n        ],\n        \"semantic_type\": \"\",\n        \"description\": \"\"\n      }\n    },\n    {\n      \"column\": \"Option\",\n      \"properties\": {\n        \"dtype\": \"string\",\n        \"num_unique_values\": 5,\n        \"samples\": [\n          \"Rely on informal chats and emails for quick updates, trusting team members to manage their time efficiently.\",\n          \"macOS\"\n        ],\n        \"semantic_type\": \"\",\n        \"description\": \"\"\n      }\n    },\n    {\n      \"column\": \"Count\",\n      \"properties\": {\n        \"dtype\": \"number\",\n        \"std\": 0,\n        \"min\": 1,\n        \"max\": 2,\n        \"num_unique_values\": 2,\n        \"samples\": [\n          1,\n          2\n        ],\n        \"semantic_type\": \"\",\n        \"description\": \"\"\n      }\n    }\n  ]\n}"
            }
          },
          "metadata": {},
          "execution_count": 15
        }
      ]
    },
    {
      "cell_type": "code",
      "source": [
        "response_list = x.to_dict('list')"
      ],
      "metadata": {
        "id": "7uQJdqPUXRwR"
      },
      "execution_count": 16,
      "outputs": []
    },
    {
      "cell_type": "code",
      "source": [
        "response_list"
      ],
      "metadata": {
        "colab": {
          "base_uri": "https://localhost:8080/"
        },
        "id": "mkmX7T-4XoVo",
        "outputId": "1908e7ff-81c3-4f2a-9b09-46175a58de20"
      },
      "execution_count": 17,
      "outputs": [
        {
          "output_type": "execute_result",
          "data": {
            "text/plain": [
              "{'Unnamed: 0': [21, 45, 128, 234, 123],\n",
              " 'Age': ['23-26 years old',\n",
              "  '23-26 years old',\n",
              "  '18-22 years old',\n",
              "  '18-22 years old',\n",
              "  '18-22 years old'],\n",
              " 'Gender': ['Man', 'Man', 'Woman', 'Woman', 'Woman'],\n",
              " 'Experience': ['How do you balance between innovation and meeting project deadlines?',\n",
              "  'How do you communicate effectively with teammates to collaborate while adhering to the timelines?',\n",
              "  'What is the biggest challenge you face as a developer?',\n",
              "  'How do you ensure that you stay up-to-date with industry changes as a software developer?',\n",
              "  'What is you preferred development environment?'],\n",
              " 'Question': ['How do you balance between innovation and meeting project deadlines?',\n",
              "  'How do you communicate effectively with teammates to collaborate while adhering to the timelines?',\n",
              "  'What is the biggest challenge you face as a developer?',\n",
              "  'How do you ensure that you stay up-to-date with industry changes as a software developer?',\n",
              "  'What is you preferred development environment?'],\n",
              " 'Option': ['Prioritize innovation over deadlines',\n",
              "  'Rely on informal chats and emails for quick updates, trusting team members to manage their time efficiently.',\n",
              "  'Work-life balance',\n",
              "  'Engage in open-source projects and coding communities to get hands-on experience with cutting-edge technologies.',\n",
              "  'macOS'],\n",
              " 'Count': [2, 1, 1, 1, 1]}"
            ]
          },
          "metadata": {},
          "execution_count": 17
        }
      ]
    },
    {
      "cell_type": "code",
      "source": [
        "male_counts = df[df['Gender'] == 'Man']['Option']\n",
        "female_counts = df[df['Gender'] == 'Woman']['Option']\n",
        "\n",
        "t_statistic, p_value = ttest_ind(male_counts, female_counts)"
      ],
      "metadata": {
        "id": "r6mBSVlUY6Iw"
      },
      "execution_count": 22,
      "outputs": []
    },
    {
      "cell_type": "code",
      "source": [
        "print(\"T-test results:\")\n",
        "print(\"T-statistic:\", t_statistic)\n",
        "print(\"P-value:\", p_value)\n"
      ],
      "metadata": {
        "colab": {
          "base_uri": "https://localhost:8080/"
        },
        "id": "PeCI99C4Y70R",
        "outputId": "77a8e728-44b5-44c5-cf65-451882b36751"
      },
      "execution_count": 23,
      "outputs": [
        {
          "output_type": "stream",
          "name": "stdout",
          "text": [
            "T-test results:\n",
            "T-statistic: nan\n",
            "P-value: nan\n"
          ]
        }
      ]
    },
    {
      "cell_type": "code",
      "source": [
        "import pandas as pd\n",
        "from scipy.stats import chi2_contingency, fisher_exact\n",
        "import matplotlib.pyplot as plt\n",
        "\n",
        "# Load data into a DataFrame\n",
        "data = responses_df.to_dict('list')\n",
        "\n",
        "df = pd.DataFrame(data)\n",
        "\n",
        "# Descriptive Statistics\n",
        "print(df.describe())  # For numerical columns\n",
        "\n",
        "gender_counts = df['Gender'].value_counts()\n",
        "age_counts = df['Age'].value_counts()\n",
        "print(gender_counts)\n",
        "print(age_counts)\n",
        "\n",
        "gender_analysis = df.groupby('Gender')['Option'].value_counts().unstack().fillna(0)\n",
        "print(gender_analysis)\n",
        "\n",
        "age_analysis = df.groupby('Age')['Option'].value_counts().unstack().fillna(0)\n",
        "print(age_analysis)\n",
        "\n",
        "print(\"correlation_matrix\")\n",
        "correlation_matrix = df.corr()\n",
        "print(correlation_matrix)\n",
        "\n",
        "chi2, p, _, _ = chi2_contingency(pd.crosstab(df['Gender'], df['Option']))\n",
        "print(\"Chi-square test p-value:\", p)\n",
        "\n",
        "contingency_table = pd.crosstab(df['Gender'], df['Option'])\n",
        "print(\"Contingency Table:\")\n",
        "print(contingency_table)\n",
        "\n",
        "development_environment_by_age = df.groupby('Age')['Option'].value_counts().unstack().fillna(0)\n",
        "print(development_environment_by_age)\n",
        "\n"
      ],
      "metadata": {
        "id": "Lcp-iRknaLpI"
      },
      "execution_count": null,
      "outputs": []
    },
    {
      "cell_type": "code",
      "source": [
        "import numpy as np\n",
        "arrays = np.array(list(data.values()))\n",
        "\n",
        "print(arrays)\n"
      ],
      "metadata": {
        "colab": {
          "base_uri": "https://localhost:8080/"
        },
        "id": "4_hLqxmGcxCU",
        "outputId": "fa488f42-5395-4b7a-9a50-33efd1e9ac66"
      },
      "execution_count": 34,
      "outputs": [
        {
          "output_type": "stream",
          "name": "stdout",
          "text": [
            "[['0' '1' '2' ... '311' '312' '313']\n",
            " ['23-26 years old' '23-26 years old' '23-26 years old' ...\n",
            "  '27-35 years old' '27-35 years old' '27-35 years old']\n",
            " ['Man' 'Man' 'Man' ... 'Woman' 'Woman' 'Woman']\n",
            " ...\n",
            " ['What is you preferred development environment?'\n",
            "  ' How do you learn to code?' ' How do you learn to code?' ...\n",
            "  \"You're assigned to a project that requires expertise in a programming language you're not familiar with. The deadline is tight. What is your strategy to tackle this situation? \"\n",
            "  'You discover a critical bug right before a software release. What immediate action do you take?'\n",
            "  'In a professional setting, if your team is supposed to deliver a SaaS product within a two-day timeframe, and you discover a critical bug in the software, how would you address and handle this situation?']\n",
            " ['Windows' 'Leetcode' 'School (i.e, University, College, etc)' ...\n",
            "  'Use your existing knowledge and adapt as you go.'\n",
            "  'Delay the release to assess and fix the bug, ensuring the product meets quality standards.'\n",
            "  'Inform your team leader or project manager about the bug immediately, and work collaboratively to assess its impact and decide on the next steps.']\n",
            " ['6' '1' '1' ... '1' '1' '1']]\n"
          ]
        }
      ]
    },
    {
      "cell_type": "code",
      "source": [
        "import numpy as np\n",
        "from collections import defaultdict\n",
        "from scipy.stats import f_oneway\n",
        "responses=arrays\n",
        "option_mapping = defaultdict(lambda: len(option_mapping))\n",
        "for row in responses:\n",
        "    for i, option in enumerate(row):\n",
        "        option_mapping[option]\n",
        "\n",
        "responses_numeric = np.array([[option_mapping[option] for option in row] for row in responses])\n",
        "\n",
        "observed_agreement = np.mean(np.sum(responses_numeric == np.max(responses_numeric, axis=1, keepdims=True), axis=0) / responses_numeric.shape[0])\n",
        "\n",
        "chance_agreement = np.mean(np.sum((responses_numeric == i)[:, np.newaxis] * np.sum(responses_numeric == i, axis=1, keepdims=True) / (responses_numeric.shape[1] ** 2) for i in range(len(option_mapping))))\n",
        "\n",
        "fleiss_kappa = (observed_agreement - chance_agreement) / (1 - chance_agreement)\n",
        "\n",
        "print(\"Observed Agreement:\", observed_agreement)\n",
        "print(\"Chance Agreement:\", chance_agreement)\n",
        "print(\"Fleiss' Kappa:\", fleiss_kappa)"
      ],
      "metadata": {
        "colab": {
          "base_uri": "https://localhost:8080/"
        },
        "id": "Fu2Cy9e9dCnV",
        "outputId": "7cdc556e-1b74-4b62-833e-9fc4a2216492"
      },
      "execution_count": 36,
      "outputs": [
        {
          "output_type": "stream",
          "name": "stdout",
          "text": [
            "Observed Agreement: 0.10282074613284804\n",
            "Chance Agreement: 0.00011234424416427859\n",
            "Fleiss' Kappa: 0.10271994188291521\n"
          ]
        },
        {
          "output_type": "stream",
          "name": "stderr",
          "text": [
            "<ipython-input-36-a8636cfcc513>:17: DeprecationWarning: Calling np.sum(generator) is deprecated, and in the future will give a different result. Use np.sum(np.fromiter(generator)) or the python sum builtin instead.\n",
            "  chance_agreement = np.mean(np.sum((responses_numeric == i)[:, np.newaxis] * np.sum(responses_numeric == i, axis=1, keepdims=True) / (responses_numeric.shape[1] ** 2) for i in range(len(option_mapping))))\n"
          ]
        }
      ]
    },
    {
      "cell_type": "code",
      "source": [
        "import numpy as np\n",
        "from collections import defaultdict\n",
        "from scipy.stats import f_oneway\n",
        "\n",
        "data = llm_df.to_dict('list')\n",
        "responses=np.array(list(data.values()))\n",
        "option_mapping = defaultdict(lambda: len(option_mapping))\n",
        "for row in responses:\n",
        "    for i, option in enumerate(row):\n",
        "        option_mapping[option]\n",
        "\n",
        "responses_numeric = np.array([[option_mapping[option] for option in row] for row in responses])\n",
        "\n",
        "observed_agreement = np.mean(np.sum(responses_numeric == np.max(responses_numeric, axis=1, keepdims=True), axis=0) / responses_numeric.shape[0])\n",
        "\n",
        "chance_agreement = np.mean(np.sum((responses_numeric == i)[:, np.newaxis] * np.sum(responses_numeric == i, axis=1, keepdims=True) / (responses_numeric.shape[1] ** 2) for i in range(len(option_mapping))))\n",
        "\n",
        "fleiss_kappa = (observed_agreement - chance_agreement) / (1 - chance_agreement)\n",
        "\n",
        "print(\"Observed Agreement:\", observed_agreement)\n",
        "print(\"Chance Agreement:\", chance_agreement)\n",
        "print(\"Fleiss' Kappa:\", fleiss_kappa)"
      ],
      "metadata": {
        "colab": {
          "base_uri": "https://localhost:8080/"
        },
        "id": "rD27paRnd4Nh",
        "outputId": "5710cb6b-4630-4aa2-d2c3-b538a7a820ca"
      },
      "execution_count": 37,
      "outputs": [
        {
          "output_type": "stream",
          "name": "stdout",
          "text": [
            "Observed Agreement: 0.24134871339840283\n",
            "Chance Agreement: 0.00010227845541526622\n",
            "Fleiss' Kappa: 0.2412711117796367\n"
          ]
        },
        {
          "output_type": "stream",
          "name": "stderr",
          "text": [
            "<ipython-input-37-9ec34ad9e82a>:19: DeprecationWarning: Calling np.sum(generator) is deprecated, and in the future will give a different result. Use np.sum(np.fromiter(generator)) or the python sum builtin instead.\n",
            "  chance_agreement = np.mean(np.sum((responses_numeric == i)[:, np.newaxis] * np.sum(responses_numeric == i, axis=1, keepdims=True) / (responses_numeric.shape[1] ** 2) for i in range(len(option_mapping))))\n"
          ]
        }
      ]
    }
  ]
}