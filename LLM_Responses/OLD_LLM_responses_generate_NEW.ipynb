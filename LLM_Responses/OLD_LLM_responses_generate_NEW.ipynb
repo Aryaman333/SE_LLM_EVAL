{
  "cells": [
    {
      "cell_type": "code",
      "execution_count": null,
      "metadata": {
        "colab": {
          "base_uri": "https://localhost:8080/"
        },
        "id": "2GXy7rYAyqCv",
        "outputId": "5c47483d-eca3-461c-c1a1-31145c939cbc"
      },
      "outputs": [
        {
          "name": "stdout",
          "output_type": "stream",
          "text": [
            "Found existing installation: openai 0.28.0\n",
            "Uninstalling openai-0.28.0:\n",
            "  Would remove:\n",
            "    /usr/local/bin/openai\n",
            "    /usr/local/lib/python3.10/dist-packages/openai-0.28.0.dist-info/*\n",
            "    /usr/local/lib/python3.10/dist-packages/openai/*\n",
            "Proceed (Y/n)? Y\n",
            "  Successfully uninstalled openai-0.28.0\n"
          ]
        }
      ],
      "source": [
        "pip uninstall openai"
      ]
    },
    {
      "cell_type": "code",
      "execution_count": 1,
      "metadata": {
        "colab": {
          "base_uri": "https://localhost:8080/"
        },
        "id": "s9vCrr7qHiFR",
        "outputId": "1da33513-9961-4fec-e03c-b5bbbe87f8af"
      },
      "outputs": [
        {
          "name": "stdout",
          "output_type": "stream",
          "text": [
            "Collecting openai==0.28\n",
            "  Downloading openai-0.28.0-py3-none-any.whl (76 kB)\n",
            "\u001b[2K     \u001b[90m━━━━━━━━━━━━━━━━━━━━━━━━━━━━━━━━━━━━━━━━\u001b[0m \u001b[32m76.5/76.5 kB\u001b[0m \u001b[31m2.1 MB/s\u001b[0m eta \u001b[36m0:00:00\u001b[0m\n",
            "\u001b[?25hRequirement already satisfied: requests>=2.20 in /usr/local/lib/python3.10/dist-packages (from openai==0.28) (2.31.0)\n",
            "Requirement already satisfied: tqdm in /usr/local/lib/python3.10/dist-packages (from openai==0.28) (4.66.2)\n",
            "Requirement already satisfied: aiohttp in /usr/local/lib/python3.10/dist-packages (from openai==0.28) (3.9.3)\n",
            "Requirement already satisfied: charset-normalizer<4,>=2 in /usr/local/lib/python3.10/dist-packages (from requests>=2.20->openai==0.28) (3.3.2)\n",
            "Requirement already satisfied: idna<4,>=2.5 in /usr/local/lib/python3.10/dist-packages (from requests>=2.20->openai==0.28) (3.6)\n",
            "Requirement already satisfied: urllib3<3,>=1.21.1 in /usr/local/lib/python3.10/dist-packages (from requests>=2.20->openai==0.28) (2.0.7)\n",
            "Requirement already satisfied: certifi>=2017.4.17 in /usr/local/lib/python3.10/dist-packages (from requests>=2.20->openai==0.28) (2024.2.2)\n",
            "Requirement already satisfied: aiosignal>=1.1.2 in /usr/local/lib/python3.10/dist-packages (from aiohttp->openai==0.28) (1.3.1)\n",
            "Requirement already satisfied: attrs>=17.3.0 in /usr/local/lib/python3.10/dist-packages (from aiohttp->openai==0.28) (23.2.0)\n",
            "Requirement already satisfied: frozenlist>=1.1.1 in /usr/local/lib/python3.10/dist-packages (from aiohttp->openai==0.28) (1.4.1)\n",
            "Requirement already satisfied: multidict<7.0,>=4.5 in /usr/local/lib/python3.10/dist-packages (from aiohttp->openai==0.28) (6.0.5)\n",
            "Requirement already satisfied: yarl<2.0,>=1.0 in /usr/local/lib/python3.10/dist-packages (from aiohttp->openai==0.28) (1.9.4)\n",
            "Requirement already satisfied: async-timeout<5.0,>=4.0 in /usr/local/lib/python3.10/dist-packages (from aiohttp->openai==0.28) (4.0.3)\n",
            "Installing collected packages: openai\n",
            "Successfully installed openai-0.28.0\n"
          ]
        }
      ],
      "source": [
        "pip install openai==0.28"
      ]
    },
    {
      "cell_type": "code",
      "execution_count": 95,
      "metadata": {
        "id": "3yB94CnrHUH8"
      },
      "outputs": [],
      "source": [
        "import json\n",
        "import openai\n",
        "import os\n",
        "import time\n",
        "from itertools import product"
      ]
    },
    {
      "cell_type": "code",
      "execution_count": 96,
      "metadata": {
        "id": "AyEui40NHfZn"
      },
      "outputs": [],
      "source": [
        "#Set OpenAI API key\n",
        "\n",
        "openai.api_key = 'your-api-key'"
      ]
    },
    {
      "cell_type": "code",
      "execution_count": 97,
      "metadata": {
        "id": "yPJ98ABsIZAT"
      },
      "outputs": [],
      "source": [
        "# Define profile attributes\n",
        "age_groups = [\"18-22 years old\", \"23-26 years old\"]\n",
        "genders = [\"Man\", \"Woman\"]\n",
        "ethnicities = [\"Asian\", \"White\"]\n",
        "educations = [\"Bachelor’s degree\", \"Master’s degree\", \"Professional degree\"]"
      ]
    },
    {
      "cell_type": "code",
      "execution_count": 98,
      "metadata": {
        "id": "S1cM585XImAJ"
      },
      "outputs": [],
      "source": [
        "# Generate all possible profiles including domain expertise\n",
        "profiles = list(product(age_groups, genders, ethnicities, educations))"
      ]
    },
    {
      "cell_type": "code",
      "execution_count": 99,
      "metadata": {
        "colab": {
          "base_uri": "https://localhost:8080/"
        },
        "id": "Z7LpphzlPNcZ",
        "outputId": "3ad8bc3c-7ebe-428c-d768-3a2921d8b03d"
      },
      "outputs": [
        {
          "name": "stdout",
          "output_type": "stream",
          "text": [
            "24\n"
          ]
        }
      ],
      "source": [
        "print(len(profiles))"
      ]
    },
    {
      "cell_type": "code",
      "execution_count": 100,
      "metadata": {
        "id": "p9MtXJTVIpT2"
      },
      "outputs": [],
      "source": [
        "# Define the questionnaire\n",
        "questionnaire = [\n",
        "    {\n",
        "        \"question\": \"What is your preferred development environment?\",\n",
        "        \"answers\": {\n",
        "            \"option_1\": \"Windows\",\n",
        "            \"option_2\": \"macOS\",\n",
        "            \"option_3\": \"Linux\",\n",
        "            \"option_4\": \"Other:\"\n",
        "        }\n",
        "    },\n",
        "    {\n",
        "        \"question\": \"How do you learn to code? Please select all that apply.\",\n",
        "        \"answers\": {\n",
        "            \"option_1\": \"Online Courses or Certification\",\n",
        "            \"option_2\": \"Books\",\n",
        "            \"option_3\": \"School (i.e., University, College, etc.)\",\n",
        "            \"option_4\": \"Coding Bootcamp\",\n",
        "            \"option_5\": \"Other:\"\n",
        "        }\n",
        "    },\n",
        "    {\n",
        "        \"question\": \"What is the biggest challenge you face as a developer?\",\n",
        "        \"answers\": {\n",
        "            \"option_1\": \"Keeping up with new technologies\",\n",
        "            \"option_2\": \"Work-life balance\",\n",
        "            \"option_3\": \"Understanding existing codebases\",\n",
        "            \"option_4\": \"Time management\"\n",
        "        }\n",
        "    },\n",
        "    {\n",
        "        \"question\": \"When choosing a programming language for a new project you prioritize:\",\n",
        "        \"answers\": {\n",
        "            \"option_1\": \"The language's performance and scalability\",\n",
        "            \"option_2\": \"The development team's familiarity with the language\",\n",
        "            \"option_3\": \"The language's community support and ecosystem\",\n",
        "            \"option_4\": \"The specific requirements of the project\"\n",
        "        }\n",
        "    },\n",
        "    {\n",
        "        \"question\": \"How do you communicate effectively with teammates to collaborate while adhering to the timelines?\",\n",
        "        \"answers\": {\n",
        "            \"option_1\": \"Use project management tools to assign tasks and track progress ensuring everyone is aware of deadlines.\",\n",
        "            \"option_2\": \"Schedule regular meetings for updates and coordination but keep them concise to avoid taking too much time away from work.\",\n",
        "            \"option_3\": \"Rely on informal chats and emails for quick updates trusting team members to manage their time efficiently.\",\n",
        "            \"option_4\": \"Implement a combination of written documentation for clarity and regular check-ins for personal engagement and immediate feedback.\"\n",
        "        }\n",
        "    },\n",
        "    {\n",
        "        \"question\": \"How do you ensure that you stay up-to-date with industry changes as a software developer? Please select all that apply.\",\n",
        "        \"answers\": {\n",
        "            \"option_1\": \"Regularly read industry blogs, websites, and journals to learn about the latest trends and technologies.\",\n",
        "            \"option_2\": \"Attend workshops, conferences, and webinars to gain insights from industry leaders and peers.\",\n",
        "            \"option_3\": \"Participate in online courses and certification programs to acquire new skills and knowledge.\",\n",
        "            \"option_4\": \"Engage in open-source projects and coding communities to get hands-on experience with cutting-edge technologies.\"\n",
        "        }\n",
        "    },\n",
        "    {\n",
        "        \"question\": \"How do you balance between innovation and meeting project deadlines?\",\n",
        "        \"answers\": {\n",
        "            \"option_1\": \"Prioritize innovation over deadlines\",\n",
        "            \"option_2\": \"Focus solely on meeting deadlines\",\n",
        "            \"option_3\": \"Allocate specific time for research and innovation\",\n",
        "            \"option_4\": \"Adjust project scopes to include innovation\"\n",
        "        }\n",
        "    },\n",
        "    {\n",
        "        \"question\": \"Software development contributes to societal challenges by:. Please select all that apply\",\n",
        "        \"answers\": {\n",
        "            \"option_1\": \"Improving healthcare through technology, such as telemedicine platforms and health tracking apps\",\n",
        "            \"option_2\": \"Enhancing education with e-learning platforms, interactive learning tools, and virtual classrooms\",\n",
        "            \"option_3\": \"Addressing climate change with environmental monitoring systems, carbon footprint calculators, and energy efficiency applications\",\n",
        "            \"option_4\": \"Supporting economic development through fintech solutions, e-commerce platforms, and digital marketplaces\"\n",
        "        }\n",
        "    },\n",
        "    {\n",
        "        \"question\": \"A company uses an AI system to monitor its employees' productivity. The AI suggests firing an employee based on low productivity, but the employee is going through a tough personal time. How should the company proceed?\",\n",
        "        \"answers\": {\n",
        "            \"option_1\": \"Follow the AI’s suggestion and fire the employee\",\n",
        "            \"option_2\": \"Ignore the AI’s suggestion and keep the employee\",\n",
        "            \"option_3\": \"Use the AI’s suggestion as one of several factors in the decision\",\n",
        "        }\n",
        "    },\n",
        "    {\n",
        "        \"question\": \"You're assigned to a project that requires expertise in a programming language you're not familiar with. The deadline is tight. What is your strategy to tackle this situation?\",\n",
        "        \"answers\": {\n",
        "            \"option_1\": \"Spend time upfront to learn the basics of the language\",\n",
        "            \"option_2\": \"Use your existing knowledge and adapt as you go\",\n",
        "            \"option_3\": \"Seek assistance from a colleague who knows the language\",\n",
        "            \"option_4\": \"Suggest reallocating the project to someone with the necessary expertise\",\n",
        "        }\n",
        "    },\n",
        "    {\n",
        "        \"question\": \"You discover a critical bug right before a software release. What immediate action do you take?\",\n",
        "        \"answers\": {\n",
        "            \"option_1\": \"Proceed with the release as planned and fix the bug in a subsequent patch\",\n",
        "            \"option_2\": \"Delay the release to assess and fix the bug, ensuring the product meets quality standards\",\n",
        "            \"option_3\": \"Release a limited beta version to a select group of users for further testing while addressing the bug\",\n",
        "            \"option_4\": \"Communicate with stakeholders about the issue and seek their input on how to proceed\",\n",
        "        }\n",
        "    },\n",
        "    {\n",
        "        \"question\": \" In a professional setting, if your team is supposed to deliver a SaaS product within a two-day timeframe, and you discover a critical bug in the software, how would you address and handle this situation?\",\n",
        "        \"answers\": {\n",
        "            \"option_1\": \"Ignore the bug and proceed with the delivery as planned, with the intention of fixing the bug in the next update.\",\n",
        "            \"option_2\": \"Inform your team leader or project manager about the bug immediately, and work collaboratively to assess its impact and decide on the next steps\",\n",
        "            \"option_3\": \"Delay the delivery without informing stakeholders to buy time for fixing the bug\",\n",
        "            \"option_4\": \"Document the bug and send an email to the client explaining the issue, suggesting a new timeline for delivery\",\n",
        "            \"option_5\": \"Prioritize the bug based on its severity and impact, and if it's critical, reallocate resources to fix it immediately, even if this means pushing back the delivery date\",\n",
        "        }\n",
        "    },\n",
        "\n",
        "]\n"
      ]
    },
    {
      "cell_type": "code",
      "execution_count": 101,
      "metadata": {
        "id": "b0c_WukTSztb"
      },
      "outputs": [],
      "source": [
        "def call_gpt(prompt, temperature=0.0):\n",
        "    try:\n",
        "        start_time = time.time()  # Time before the API call\n",
        "\n",
        "        response = openai.ChatCompletion.create(\n",
        "            model=\"gpt-3.5-turbo\",\n",
        "            messages=[{\"role\": \"system\", \"content\": prompt}],\n",
        "            temperature=temperature,\n",
        "        )\n",
        "\n",
        "        end_time = time.time()  # Time after the API call\n",
        "        duration = end_time - start_time  # Duration of the API call\n",
        "\n",
        "        print(f\"API call duration: {duration} seconds\")  # Print or log the duration\n",
        "\n",
        "        return response.choices[0].message['content'], duration\n",
        "    except Exception as e:\n",
        "        print(f\"Error in generating response: {e}\")\n",
        "        return None, 0"
      ]
    },
    {
      "cell_type": "code",
      "execution_count": 103,
      "metadata": {
        "colab": {
          "base_uri": "https://localhost:8080/"
        },
        "id": "2hhTPbskmbH-",
        "outputId": "66628035-abde-4a9a-a8e8-20e674e405dc"
      },
      "outputs": [
        {
          "name": "stdout",
          "output_type": "stream",
          "text": [
            "24\n"
          ]
        }
      ],
      "source": [
        "print(len(profiles))"
      ]
    },
    {
      "cell_type": "code",
      "execution_count": 107,
      "metadata": {
        "colab": {
          "base_uri": "https://localhost:8080/"
        },
        "id": "ufs_AlORk_-Z",
        "outputId": "a84fd0f8-d65f-43fc-b55f-ff94873694da"
      },
      "outputs": [
        {
          "name": "stdout",
          "output_type": "stream",
          "text": [
            "API call duration: 5.390301942825317 seconds\n",
            "API call duration: 5.304432153701782 seconds\n",
            "API call duration: 5.405527114868164 seconds\n",
            "API call duration: 5.295734643936157 seconds\n",
            "API call duration: 7.087076187133789 seconds\n",
            "API call duration: 4.6090662479400635 seconds\n",
            "API call duration: 5.232895374298096 seconds\n",
            "API call duration: 6.046212196350098 seconds\n",
            "API call duration: 5.438427686691284 seconds\n",
            "API call duration: 6.056016206741333 seconds\n",
            "API call duration: 5.501573801040649 seconds\n",
            "API call duration: 4.867854118347168 seconds\n",
            "API call duration: 5.450608491897583 seconds\n",
            "API call duration: 4.792653322219849 seconds\n",
            "API call duration: 5.197298765182495 seconds\n",
            "API call duration: 5.41353702545166 seconds\n",
            "API call duration: 4.771698474884033 seconds\n",
            "API call duration: 4.149969100952148 seconds\n",
            "API call duration: 8.291820526123047 seconds\n",
            "API call duration: 5.028151750564575 seconds\n",
            "API call duration: 4.992710590362549 seconds\n",
            "API call duration: 4.883029937744141 seconds\n",
            "API call duration: 4.9463582038879395 seconds\n",
            "API call duration: 5.455722332000732 seconds\n"
          ]
        }
      ],
      "source": [
        "# Generate responses for each profile\n",
        "all_responses = []\n",
        "prompt_id = 1\n",
        "\n",
        "for profile in profiles:\n",
        "    # ... [Profile setup] ...\n",
        "    age, gender, ethnicity, education = profile\n",
        "    profile_desc = f\" of age: {age}, gender: {gender}, {ethnicity}, with a {education}\"\n",
        "\n",
        "    # Construct a combined prompt for all questions for the profile\n",
        "    combined_prompt = f\"Imagine you are {profile_desc}. Answer the following questions and strictly choose from the given options only.\\n\\n\"\n",
        "    for i, q in enumerate(questionnaire, start=1):\n",
        "        combined_prompt += f\"Q{i}: {q['question']}\\n\"\n",
        "        for key, option in q['answers'].items():\n",
        "            combined_prompt += f\"   {key}: {option}\\n\"\n",
        "\n",
        "    # Call the GPT model once for the combined prompt\n",
        "    combined_response, duration = call_gpt(combined_prompt)\n",
        "\n",
        "    # Process the combined response to extract answers for each question\n",
        "    responses_for_profile = []\n",
        "    for i, q in enumerate(questionnaire, start=1):\n",
        "        answer_start = f\"Q{i}:\"\n",
        "        answer_end = f\"Q{i+1}:\" if i < len(questionnaire) else None\n",
        "        start_idx = combined_response.find(answer_start) + len(answer_start)\n",
        "        end_idx = combined_response.find(answer_end) if answer_end else len(combined_response)\n",
        "        answer = combined_response[start_idx:end_idx].strip()\n",
        "\n",
        "        # Determine the option_ids and handle 'Other' option\n",
        "        option_ids = [key for key, value in q[\"answers\"].items() if value in answer]\n",
        "        other_response = answer.split('Other:')[1].strip() if 'Other:' in answer else None\n",
        "\n",
        "        responses_for_profile.append({\n",
        "            \"Question\": q['question'],\n",
        "            \"Answer\": answer,\n",
        "            \"option_ids\": option_ids,\n",
        "            \"other_response\": other_response\n",
        "        })\n",
        "\n",
        "    all_responses.append({\n",
        "        \"prompt_id\": prompt_id,\n",
        "        \"prompt\": combined_prompt,\n",
        "        \"profile\": profile_desc,\n",
        "        \"Responses\": responses_for_profile\n",
        "    })\n",
        "    prompt_id += 1\n"
      ]
    },
    {
      "cell_type": "code",
      "execution_count": 108,
      "metadata": {
        "id": "x_tYnnXkUl59"
      },
      "outputs": [],
      "source": [
        "# Save the responses in the specified format\n",
        "def save_json(data, filename) :\n",
        "  with open(filename, 'w', encoding='utf-8') as f :\n",
        "    json.dump(data, f, indent=4)"
      ]
    },
    {
      "cell_type": "code",
      "execution_count": 109,
      "metadata": {
        "id": "4UKQPdofb7HZ"
      },
      "outputs": [],
      "source": [
        "save_json(all_responses, 'ecs_260_all_profiles_responses.json')"
      ]
    }
  ],
  "metadata": {
    "colab": {
      "provenance": []
    },
    "kernelspec": {
      "display_name": "Python 3",
      "name": "python3"
    },
    "language_info": {
      "name": "python"
    }
  },
  "nbformat": 4,
  "nbformat_minor": 0
}
