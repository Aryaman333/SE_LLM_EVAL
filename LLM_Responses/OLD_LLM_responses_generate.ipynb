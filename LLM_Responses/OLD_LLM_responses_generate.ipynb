{
  "cells": [
    {
      "cell_type": "code",
      "execution_count": 7,
      "metadata": {
        "id": "3yB94CnrHUH8"
      },
      "outputs": [],
      "source": [
        "import json\n",
        "import openai\n",
        "import os\n",
        "from itertools import product"
      ]
    },
    {
      "cell_type": "code",
      "execution_count": 8,
      "metadata": {
        "id": "AyEui40NHfZn"
      },
      "outputs": [],
      "source": [
        "#Set OpenAI API key\n",
        "\n",
        "openai.api_key = 'your-api-key'"
      ]
    },
    {
      "cell_type": "code",
      "execution_count": 9,
      "metadata": {
        "id": "yPJ98ABsIZAT"
      },
      "outputs": [],
      "source": [
        "# Define profile attributes\n",
        "age_groups = [\"18-22 years old\", \"23-26 years old\", \"27-35 years old\", \"Prefer not to say\"]\n",
        "genders = [\"Man\", \"Woman\", \"Non-binary genderqueer or gender non-conforming\", \"Prefer not to say\"]\n",
        "hispanic_origins = [\"Yes\", \"No\"]\n",
        "ethnicities = [\"American Indian or Alaska Native\", \"Asian\", \"Black or African American\", \"Native Hawaiian or Other Pacific Islander\", \"White\"]\n",
        "educations = [\"Bachelor’s degree\", \"Master’s degree\", \"Professional degree\"]\n",
        "experiences = [\"Less than 1 year\", \"1-2 years\", \"3-5 years\", \"6-10 years\", \"More than 10 years\"]"
      ]
    },
    {
      "cell_type": "code",
      "execution_count": 10,
      "metadata": {
        "id": "S1cM585XImAJ"
      },
      "outputs": [],
      "source": [
        "# Generate all possible profiles including domain expertise\n",
        "profiles = list(product(age_groups, genders, hispanic_origins, ethnicities, educations, experiences))"
      ]
    },
    {
      "cell_type": "code",
      "execution_count": 11,
      "metadata": {
        "id": "p9MtXJTVIpT2"
      },
      "outputs": [],
      "source": [
        "# Define the questionnaire\n",
        "questionnaire = [\n",
        "    {\n",
        "        \"question\": \"What is your preferred development environment?\",\n",
        "        \"answers\": {\n",
        "            \"option_1\": \"Windows\",\n",
        "            \"option_2\": \"macOS\",\n",
        "            \"option_3\": \"Linux\",\n",
        "            \"option_4\": \"Other:\"\n",
        "        }\n",
        "    },\n",
        "    {\n",
        "        \"question\": \"How do you learn to code? Please select all that apply.\",\n",
        "        \"answers\": {\n",
        "            \"option_1\": \"Online Courses or Certification\",\n",
        "            \"option_2\": \"Books\",\n",
        "            \"option_3\": \"School (i.e., University, College, etc.)\",\n",
        "            \"option_4\": \"Coding Bootcamp\",\n",
        "            \"option_5\": \"Other:\"\n",
        "        }\n",
        "    },\n",
        "    {\n",
        "        \"question\": \"What is the biggest challenge you face as a developer?\",\n",
        "        \"answers\": {\n",
        "            \"option_1\": \"Keeping up with new technologies\",\n",
        "            \"option_2\": \"Work-life balance\",\n",
        "            \"option_3\": \"Understanding existing codebases\",\n",
        "            \"option_4\": \"Time management\"\n",
        "        }\n",
        "    },\n",
        "    {\n",
        "        \"question\": \"When choosing a programming language for a new project you prioritize:\",\n",
        "        \"answers\": {\n",
        "            \"option_1\": \"The language's performance and scalability\",\n",
        "            \"option_2\": \"The development team's familiarity with the language\",\n",
        "            \"option_3\": \"The language's community support and ecosystem\",\n",
        "            \"option_4\": \"The specific requirements of the project\"\n",
        "        }\n",
        "    },\n",
        "    {\n",
        "        \"question\": \"How do you communicate effectively with teammates to collaborate while adhering to the timelines?\",\n",
        "        \"answers\": {\n",
        "            \"option_1\": \"Use project management tools to assign tasks and track progress ensuring everyone is aware of deadlines.\",\n",
        "            \"option_2\": \"Schedule regular meetings for updates and coordination but keep them concise to avoid taking too much time away from work.\",\n",
        "            \"option_3\": \"Rely on informal chats and emails for quick updates trusting team members to manage their time efficiently.\",\n",
        "            \"option_4\": \"Implement a combination of written documentation for clarity and regular check-ins for personal engagement and immediate feedback.\"\n",
        "        }\n",
        "    },\n",
        "    {\n",
        "        \"question\": \"How do you ensure that you stay up-to-date with industry changes as a software developer? Please select all that apply.\",\n",
        "        \"answers\": {\n",
        "            \"option_1\": \"Regularly read industry blogs, websites, and journals to learn about the latest trends and technologies.\",\n",
        "            \"option_2\": \"Attend workshops, conferences, and webinars to gain insights from industry leaders and peers.\",\n",
        "            \"option_3\": \"Participate in online courses and certification programs to acquire new skills and knowledge.\",\n",
        "            \"option_4\": \"Engage in open-source projects and coding communities to get hands-on experience with cutting-edge technologies.\"\n",
        "        }\n",
        "    },\n",
        "    {\n",
        "        \"question\": \"How do you balance between innovation and meeting project deadlines?\",\n",
        "        \"answers\": {\n",
        "            \"option_1\": \"Prioritize innovation over deadlines\",\n",
        "            \"option_2\": \"Focus solely on meeting deadlines\",\n",
        "            \"option_3\": \"Allocate specific time for research and innovation\",\n",
        "            \"option_4\": \"Adjust project scopes to include innovation\"\n",
        "        }\n",
        "    },\n",
        "    {\n",
        "        \"question\": \"Software development contributes to societal challenges by:. Please select all that apply\",\n",
        "        \"answers\": {\n",
        "            \"option_1\": \"Improving healthcare through technology, such as telemedicine platforms and health tracking apps\",\n",
        "            \"option_2\": \"Enhancing education with e-learning platforms, interactive learning tools, and virtual classrooms\",\n",
        "            \"option_3\": \"Addressing climate change with environmental monitoring systems, carbon footprint calculators, and energy efficiency applications\",\n",
        "            \"option_4\": \"Supporting economic development through fintech solutions, e-commerce platforms, and digital marketplaces\"\n",
        "        }\n",
        "    },\n",
        "    {\n",
        "        \"question\": \"A company uses an AI system to monitor its employees' productivity. The AI suggests firing an employee based on low productivity, but the employee is going through a tough personal time. How should the company proceed?\",\n",
        "        \"answers\": {\n",
        "            \"option_1\": \"Follow the AI’s suggestion and fire the employee\",\n",
        "            \"option_2\": \"Ignore the AI’s suggestion and keep the employee\",\n",
        "            \"option_3\": \"Use the AI’s suggestion as one of several factors in the decision\",\n",
        "        }\n",
        "    },\n",
        "    {\n",
        "        \"question\": \"You're assigned to a project that requires expertise in a programming language you're not familiar with. The deadline is tight. What is your strategy to tackle this situation?\",\n",
        "        \"answers\": {\n",
        "            \"option_1\": \"Spend time upfront to learn the basics of the language\",\n",
        "            \"option_2\": \"Use your existing knowledge and adapt as you go\",\n",
        "            \"option_3\": \"Seek assistance from a colleague who knows the language\",\n",
        "            \"option_4\": \"Suggest reallocating the project to someone with the necessary expertise\",\n",
        "        }\n",
        "    },\n",
        "    {\n",
        "        \"question\": \"You discover a critical bug right before a software release. What immediate action do you take?\",\n",
        "        \"answers\": {\n",
        "            \"option_1\": \"Proceed with the release as planned and fix the bug in a subsequent patch\",\n",
        "            \"option_2\": \"Delay the release to assess and fix the bug, ensuring the product meets quality standards\",\n",
        "            \"option_3\": \"Release a limited beta version to a select group of users for further testing while addressing the bug\",\n",
        "            \"option_4\": \"Communicate with stakeholders about the issue and seek their input on how to proceed\",\n",
        "        }\n",
        "    },\n",
        "    {\n",
        "        \"question\": \" In a professional setting, if your team is supposed to deliver a SaaS product within a two-day timeframe, and you discover a critical bug in the software, how would you address and handle this situation?\",\n",
        "        \"answers\": {\n",
        "            \"option_1\": \"Ignore the bug and proceed with the delivery as planned, with the intention of fixing the bug in the next update.\",\n",
        "            \"option_2\": \"Inform your team leader or project manager about the bug immediately, and work collaboratively to assess its impact and decide on the next steps\",\n",
        "            \"option_3\": \"Delay the delivery without informing stakeholders to buy time for fixing the bug\",\n",
        "            \"option_4\": \"Document the bug and send an email to the client explaining the issue, suggesting a new timeline for delivery\",\n",
        "            \"option_5\": \"Prioritize the bug based on its severity and impact, and if it's critical, reallocate resources to fix it immediately, even if this means pushing back the delivery date\",\n",
        "        }\n",
        "    },\n",
        "\n",
        "]\n"
      ]
    },
    {
      "cell_type": "code",
      "execution_count": 12,
      "metadata": {
        "id": "b0c_WukTSztb"
      },
      "outputs": [],
      "source": [
        "def call_gpt(prompt, temperature=0.0):\n",
        "    try:\n",
        "        response = openai.ChatCompletion.create(\n",
        "            model=\"gpt-4\",  # or whichever model you're using\n",
        "            messages=[\n",
        "                {\"role\": \"system\", \"content\": prompt}\n",
        "            ],\n",
        "            temperature=temperature\n",
        "        )\n",
        "        return response.choices[0].message['content']\n",
        "    except Exception as e:\n",
        "        print(f\"Error in generating response: {e}\")\n",
        "        return None"
      ]
    },
    {
      "cell_type": "code",
      "execution_count": 14,
      "metadata": {
        "colab": {
          "base_uri": "https://localhost:8080/",
          "height": 228
        },
        "id": "Hbjw2ZNYvwpa",
        "outputId": "4dc08977-daea-4548-9a21-f9a2582d71e2"
      },
      "outputs": [
        {
          "name": "stdout",
          "output_type": "stream",
          "text": [
            "Error in generating response: The model `gpt-4` does not exist or you do not have access to it. Learn more: https://help.openai.com/en/articles/7102672-how-can-i-access-gpt-4.\n"
          ]
        },
        {
          "ename": "TypeError",
          "evalue": "argument of type 'NoneType' is not iterable",
          "output_type": "error",
          "traceback": [
            "\u001b[0;31m---------------------------------------------------------------------------\u001b[0m",
            "\u001b[0;31mTypeError\u001b[0m                                 Traceback (most recent call last)",
            "\u001b[0;32m<ipython-input-14-72eebe6b19aa>\u001b[0m in \u001b[0;36m<cell line: 5>\u001b[0;34m()\u001b[0m\n\u001b[1;32m     22\u001b[0m         \u001b[0mother_response\u001b[0m \u001b[0;34m=\u001b[0m \u001b[0;32mNone\u001b[0m\u001b[0;34m\u001b[0m\u001b[0;34m\u001b[0m\u001b[0m\n\u001b[1;32m     23\u001b[0m         \u001b[0;32mfor\u001b[0m \u001b[0mkey\u001b[0m\u001b[0;34m,\u001b[0m \u001b[0mvalue\u001b[0m \u001b[0;32min\u001b[0m \u001b[0mq\u001b[0m\u001b[0;34m[\u001b[0m\u001b[0;34m\"answers\"\u001b[0m\u001b[0;34m]\u001b[0m\u001b[0;34m.\u001b[0m\u001b[0mitems\u001b[0m\u001b[0;34m(\u001b[0m\u001b[0;34m)\u001b[0m\u001b[0;34m:\u001b[0m\u001b[0;34m\u001b[0m\u001b[0;34m\u001b[0m\u001b[0m\n\u001b[0;32m---> 24\u001b[0;31m             \u001b[0;32mif\u001b[0m \u001b[0mvalue\u001b[0m \u001b[0;32min\u001b[0m \u001b[0mresponse\u001b[0m\u001b[0;34m:\u001b[0m\u001b[0;34m\u001b[0m\u001b[0;34m\u001b[0m\u001b[0m\n\u001b[0m\u001b[1;32m     25\u001b[0m                 \u001b[0moption_ids\u001b[0m\u001b[0;34m.\u001b[0m\u001b[0mappend\u001b[0m\u001b[0;34m(\u001b[0m\u001b[0mkey\u001b[0m\u001b[0;34m)\u001b[0m\u001b[0;34m\u001b[0m\u001b[0;34m\u001b[0m\u001b[0m\n\u001b[1;32m     26\u001b[0m                 \u001b[0;32mif\u001b[0m \u001b[0mvalue\u001b[0m \u001b[0;34m==\u001b[0m \u001b[0;34m\"Other\"\u001b[0m\u001b[0;34m:\u001b[0m\u001b[0;34m\u001b[0m\u001b[0;34m\u001b[0m\u001b[0m\n",
            "\u001b[0;31mTypeError\u001b[0m: argument of type 'NoneType' is not iterable"
          ]
        }
      ],
      "source": [
        "# Generate responses for each profile\n",
        "all_responses = []\n",
        "prompt_id = 1\n",
        "\n",
        "for profile in profiles:\n",
        "    age, gender, hispanic_origins, ethnicity, education, experience = profile\n",
        "    hispanic_origin_desc = \"of Hispanic origin\" if hispanic_origins == \"Yes\" else \"not of Hispanic origin\"\n",
        "    domain_expertise = \"Domain Expert\" if experience in [\"6-10 years\", \"More than 10 years\"] else \"Non-Domain Expert\"\n",
        "    profile_desc = f\" age: {age}, gender: {gender}, {hispanic_origin_desc}, {ethnicity}, with a {education} and {experience} of coding experience\"\n",
        "\n",
        "    for q in questionnaire:\n",
        "        # Construct the prompt for each question with its choices\n",
        "        prompt = f\"Imagine you are of {profile_desc} ({domain_expertise}). Answer the following question: {q['question']}?\\n\"\n",
        "        for key, option in q['answers'].items():\n",
        "            prompt += f\" {option}\\n\"\n",
        "\n",
        "        # Call the GPT model for each question\n",
        "        response = call_gpt(prompt)\n",
        "\n",
        "        # Determine the option_id(s) and handle 'Other' option\n",
        "        option_ids = []\n",
        "        other_response = None\n",
        "        for key, value in q[\"answers\"].items():\n",
        "            if value in response:\n",
        "                option_ids.append(key)\n",
        "                if value == \"Other\":\n",
        "                    # Extract custom answer after 'Other:'\n",
        "                    other_response = response.split('Other:')[1].strip() if 'Other:' in response else None\n",
        "        if not option_ids:\n",
        "            option_ids.append(\"option_unknown\")\n",
        "\n",
        "        all_responses.append({\n",
        "            \"prompt_id\": prompt_id,\n",
        "            \"prompt\": prompt,\n",
        "            \"profile\": profile_desc,\n",
        "            \"Hispanic_Origin\": hispanic_origin_desc,\n",
        "            \"Domain_Expertise\": domain_expertise,\n",
        "            \"Question\": q['question'],\n",
        "            \"Answer\": response,\n",
        "            \"option_ids\": option_ids,  # List of option IDs\n",
        "            \"other_response\": other_response  # Custom answer for 'Other' option\n",
        "        })\n",
        "        prompt_id += 1"
      ]
    },
    {
      "cell_type": "code",
      "execution_count": 6,
      "metadata": {
        "id": "x_tYnnXkUl59"
      },
      "outputs": [],
      "source": [
        "# Save the responses in the specified format\n",
        "def save_json(data, filename) :\n",
        "  with open(filename, 'w', encoding='utf-8') as f :\n",
        "    json.dump(data, f, indent=4)"
      ]
    },
    {
      "cell_type": "code",
      "execution_count": null,
      "metadata": {
        "id": "4UKQPdofb7HZ"
      },
      "outputs": [],
      "source": [
        "save_json(all_responses, 'ecs_260_all_profiles_responses.json')"
      ]
    }
  ],
  "metadata": {
    "colab": {
      "provenance": []
    },
    "kernelspec": {
      "display_name": "Python 3",
      "name": "python3"
    },
    "language_info": {
      "name": "python"
    }
  },
  "nbformat": 4,
  "nbformat_minor": 0
}
